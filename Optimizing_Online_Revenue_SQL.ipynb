{
  "cells": [
    {
      "cell_type": "code",
      "execution_count": null,
      "metadata": {
        "dc": {
          "key": "8"
        },
        "id": "u5X-MAy942ZQ",
        "outputId": "1e9efa56-cb24-4559-c055-c58451c7b475"
      },
      "outputs": [
        {
          "name": "stdout",
          "output_type": "stream",
          "text": [
            "5 rows affected.\n"
          ]
        },
        {
          "data": {
            "text/html": [
              "<table>\n",
              "    <tr>\n",
              "        <th>product_name</th>\n",
              "        <th>product_id</th>\n",
              "        <th>description</th>\n",
              "    </tr>\n",
              "    <tr>\n",
              "        <td>None</td>\n",
              "        <td>AH2430</td>\n",
              "        <td>None</td>\n",
              "    </tr>\n",
              "    <tr>\n",
              "        <td>Women&#x27;s adidas Originals Sleek Shoes</td>\n",
              "        <td>G27341</td>\n",
              "        <td>A modern take on adidas sport heritage, tailored just for women. Perforated 3-Stripes on the leather upper of these shoes offer a sleek look that mirrors iconic tennis styles.</td>\n",
              "    </tr>\n",
              "    <tr>\n",
              "        <td>Women&#x27;s adidas Swim Puka Slippers</td>\n",
              "        <td>CM0081</td>\n",
              "        <td>These adidas Puka slippers for women&#x27;s come with slim straps for a great fit. Feature performance logo on the footbed and textured Rubber outsole that gives unique comfort.</td>\n",
              "    </tr>\n",
              "    <tr>\n",
              "        <td>Women&#x27;s adidas Sport Inspired Questar Ride Shoes</td>\n",
              "        <td>B44832</td>\n",
              "        <td>Inspired by modern tech runners, these women&#x27;s shoes step out with unexpected style. They&#x27;re built with a breathable knit upper, while the heel offers the extra support of an Achilles-hugging design. The cushioned midsole provides a soft landing with every stride.</td>\n",
              "    </tr>\n",
              "    <tr>\n",
              "        <td>Women&#x27;s adidas Originals Taekwondo Shoes</td>\n",
              "        <td>D98205</td>\n",
              "        <td>This design is inspired by vintage Taekwondo styles originally worn to perfect high kicks and rapid foot strikes. The canvas shoes make a streetwear fashion statement as a chic, foot-hugging slip-on. They&#x27;re shaped for a narrow, women&#x27;s-specific fit and ride on a soft gum rubber outsole.</td>\n",
              "    </tr>\n",
              "</table>"
            ],
            "text/plain": [
              "[(None, 'AH2430', None),\n",
              " (\"Women's adidas Originals Sleek Shoes\", 'G27341', 'A modern take on adidas sport heritage, tailored just for women. Perforated 3-Stripes on the leather upper of these shoes offer a sleek look that mirrors iconic tennis styles.'),\n",
              " (\"Women's adidas Swim Puka Slippers\", 'CM0081', \"These adidas Puka slippers for women's come with slim straps for a great fit. Feature performance logo on the footbed and textured Rubber outsole that gives unique comfort.\"),\n",
              " (\"Women's adidas Sport Inspired Questar Ride Shoes\", 'B44832', \"Inspired by modern tech runners, these women's shoes step out with unexpected style. They're built with a breathable knit upper, while the heel offers the extra support of an Achilles-hugging design. The cushioned midsole provides a soft landing with every stride.\"),\n",
              " (\"Women's adidas Originals Taekwondo Shoes\", 'D98205', \"This design is inspired by vintage Taekwondo styles originally worn to perfect high kicks and rapid foot strikes. The canvas shoes make a streetwear fashion statement as a chic, foot-hugging slip-on. They're shaped for a narrow, women's-specific fit and ride on a soft gum rubber outsole.\")]"
            ]
          },
          "execution_count": 1,
          "metadata": {},
          "output_type": "execute_result"
        }
      ],
      "source": [
        "%%sql\n",
        "postgresql:///sports\n",
        "\n",
        "SELECT *\n",
        "FROM info\n",
        "LIMIT 5;"
      ]
    },
    {
      "cell_type": "code",
      "execution_count": null,
      "metadata": {
        "dc": {
          "key": "8"
        },
        "id": "2TmRPRrM42ZS",
        "outputId": "18a1735e-a6d2-408d-d16a-3e13b74322a7"
      },
      "outputs": [
        {
          "name": "stdout",
          "output_type": "stream",
          "text": [
            " * postgresql:///sports\n",
            "5 rows affected.\n"
          ]
        },
        {
          "data": {
            "text/html": [
              "<table>\n",
              "    <tr>\n",
              "        <th>product_id</th>\n",
              "        <th>listing_price</th>\n",
              "        <th>sale_price</th>\n",
              "        <th>discount</th>\n",
              "        <th>revenue</th>\n",
              "    </tr>\n",
              "    <tr>\n",
              "        <td>AH2430</td>\n",
              "        <td>None</td>\n",
              "        <td>None</td>\n",
              "        <td>None</td>\n",
              "        <td>None</td>\n",
              "    </tr>\n",
              "    <tr>\n",
              "        <td>G27341</td>\n",
              "        <td>75.99</td>\n",
              "        <td>37.99</td>\n",
              "        <td>0.5</td>\n",
              "        <td>1641.17</td>\n",
              "    </tr>\n",
              "    <tr>\n",
              "        <td>CM0081</td>\n",
              "        <td>9.99</td>\n",
              "        <td>5.99</td>\n",
              "        <td>0.4</td>\n",
              "        <td>398.93</td>\n",
              "    </tr>\n",
              "    <tr>\n",
              "        <td>B44832</td>\n",
              "        <td>69.99</td>\n",
              "        <td>34.99</td>\n",
              "        <td>0.5</td>\n",
              "        <td>2204.37</td>\n",
              "    </tr>\n",
              "    <tr>\n",
              "        <td>D98205</td>\n",
              "        <td>79.99</td>\n",
              "        <td>39.99</td>\n",
              "        <td>0.5</td>\n",
              "        <td>5182.7</td>\n",
              "    </tr>\n",
              "</table>"
            ],
            "text/plain": [
              "[('AH2430', None, None, None, None),\n",
              " ('G27341', 75.99, 37.99, 0.5, 1641.17),\n",
              " ('CM0081', 9.99, 5.99, 0.4, 398.93),\n",
              " ('B44832', 69.99, 34.99, 0.5, 2204.37),\n",
              " ('D98205', 79.99, 39.99, 0.5, 5182.7)]"
            ]
          },
          "execution_count": 18,
          "metadata": {},
          "output_type": "execute_result"
        }
      ],
      "source": [
        "%%sql\n",
        "\n",
        "SELECT *\n",
        "FROM finance\n",
        "limit 5;"
      ]
    },
    {
      "cell_type": "code",
      "execution_count": null,
      "metadata": {
        "dc": {
          "key": "8"
        },
        "id": "UfO-u27M42ZS",
        "outputId": "33e72140-d92d-4ecf-db45-7523de84201b"
      },
      "outputs": [
        {
          "name": "stdout",
          "output_type": "stream",
          "text": [
            " * postgresql:///sports\n",
            "5 rows affected.\n"
          ]
        },
        {
          "data": {
            "text/html": [
              "<table>\n",
              "    <tr>\n",
              "        <th>product_id</th>\n",
              "        <th>rating</th>\n",
              "        <th>reviews</th>\n",
              "    </tr>\n",
              "    <tr>\n",
              "        <td>AH2430</td>\n",
              "        <td>None</td>\n",
              "        <td>None</td>\n",
              "    </tr>\n",
              "    <tr>\n",
              "        <td>G27341</td>\n",
              "        <td>3.3</td>\n",
              "        <td>24.0</td>\n",
              "    </tr>\n",
              "    <tr>\n",
              "        <td>CM0081</td>\n",
              "        <td>2.6</td>\n",
              "        <td>37.0</td>\n",
              "    </tr>\n",
              "    <tr>\n",
              "        <td>B44832</td>\n",
              "        <td>4.1</td>\n",
              "        <td>35.0</td>\n",
              "    </tr>\n",
              "    <tr>\n",
              "        <td>D98205</td>\n",
              "        <td>3.5</td>\n",
              "        <td>72.0</td>\n",
              "    </tr>\n",
              "</table>"
            ],
            "text/plain": [
              "[('AH2430', None, None),\n",
              " ('G27341', 3.3, 24.0),\n",
              " ('CM0081', 2.6, 37.0),\n",
              " ('B44832', 4.1, 35.0),\n",
              " ('D98205', 3.5, 72.0)]"
            ]
          },
          "execution_count": 19,
          "metadata": {},
          "output_type": "execute_result"
        }
      ],
      "source": [
        "%%sql\n",
        "\n",
        "SELECT *\n",
        "FROM reviews\n",
        "limit 5;"
      ]
    },
    {
      "cell_type": "code",
      "execution_count": null,
      "metadata": {
        "dc": {
          "key": "8"
        },
        "id": "qXRtAGKM42ZS",
        "outputId": "b429f271-87b8-4480-91a5-5420f5d78b6c"
      },
      "outputs": [
        {
          "name": "stdout",
          "output_type": "stream",
          "text": [
            " * postgresql:///sports\n",
            "5 rows affected.\n"
          ]
        },
        {
          "data": {
            "text/html": [
              "<table>\n",
              "    <tr>\n",
              "        <th>product_id</th>\n",
              "        <th>last_visited</th>\n",
              "    </tr>\n",
              "    <tr>\n",
              "        <td>AH2430</td>\n",
              "        <td>2018-05-19 15:13:00</td>\n",
              "    </tr>\n",
              "    <tr>\n",
              "        <td>G27341</td>\n",
              "        <td>2018-11-29 16:16:00</td>\n",
              "    </tr>\n",
              "    <tr>\n",
              "        <td>CM0081</td>\n",
              "        <td>2018-02-01 10:27:00</td>\n",
              "    </tr>\n",
              "    <tr>\n",
              "        <td>B44832</td>\n",
              "        <td>2018-09-07 20:06:00</td>\n",
              "    </tr>\n",
              "    <tr>\n",
              "        <td>D98205</td>\n",
              "        <td>2019-07-18 15:26:00</td>\n",
              "    </tr>\n",
              "</table>"
            ],
            "text/plain": [
              "[('AH2430', datetime.datetime(2018, 5, 19, 15, 13)),\n",
              " ('G27341', datetime.datetime(2018, 11, 29, 16, 16)),\n",
              " ('CM0081', datetime.datetime(2018, 2, 1, 10, 27)),\n",
              " ('B44832', datetime.datetime(2018, 9, 7, 20, 6)),\n",
              " ('D98205', datetime.datetime(2019, 7, 18, 15, 26))]"
            ]
          },
          "execution_count": 20,
          "metadata": {},
          "output_type": "execute_result"
        }
      ],
      "source": [
        "%%sql\n",
        "\n",
        "SELECT *\n",
        "FROM traffic\n",
        "limit 5;"
      ]
    },
    {
      "cell_type": "code",
      "execution_count": null,
      "metadata": {
        "dc": {
          "key": "8"
        },
        "id": "0z26TUxQ42ZT",
        "outputId": "32659a8a-855f-471a-e07a-ca8cc3846bbc"
      },
      "outputs": [
        {
          "name": "stdout",
          "output_type": "stream",
          "text": [
            " * postgresql:///sports\n",
            "5 rows affected.\n"
          ]
        },
        {
          "data": {
            "text/html": [
              "<table>\n",
              "    <tr>\n",
              "        <th>product_id</th>\n",
              "        <th>brand</th>\n",
              "    </tr>\n",
              "    <tr>\n",
              "        <td>AH2430</td>\n",
              "        <td>None</td>\n",
              "    </tr>\n",
              "    <tr>\n",
              "        <td>G27341</td>\n",
              "        <td>Adidas</td>\n",
              "    </tr>\n",
              "    <tr>\n",
              "        <td>CM0081</td>\n",
              "        <td>Adidas</td>\n",
              "    </tr>\n",
              "    <tr>\n",
              "        <td>B44832</td>\n",
              "        <td>Adidas</td>\n",
              "    </tr>\n",
              "    <tr>\n",
              "        <td>D98205</td>\n",
              "        <td>Adidas</td>\n",
              "    </tr>\n",
              "</table>"
            ],
            "text/plain": [
              "[('AH2430', None),\n",
              " ('G27341', 'Adidas'),\n",
              " ('CM0081', 'Adidas'),\n",
              " ('B44832', 'Adidas'),\n",
              " ('D98205', 'Adidas')]"
            ]
          },
          "execution_count": 21,
          "metadata": {},
          "output_type": "execute_result"
        }
      ],
      "source": [
        "%%sql\n",
        "\n",
        "SELECT *\n",
        "FROM brands\n",
        "limit 5;"
      ]
    },
    {
      "cell_type": "code",
      "execution_count": null,
      "metadata": {
        "dc": {
          "key": "8"
        },
        "id": "zLAQjcHV42ZT",
        "outputId": "eefe520d-2110-47b5-fd0b-4f4860a148e8"
      },
      "outputs": [
        {
          "name": "stdout",
          "output_type": "stream",
          "text": [
            " * postgresql:///sports\n",
            "3 rows affected.\n"
          ]
        },
        {
          "data": {
            "text/html": [
              "<table>\n",
              "    <tr>\n",
              "        <th>brand</th>\n",
              "        <th>count</th>\n",
              "    </tr>\n",
              "    <tr>\n",
              "        <td>None</td>\n",
              "        <td>0</td>\n",
              "    </tr>\n",
              "    <tr>\n",
              "        <td>Nike</td>\n",
              "        <td>545</td>\n",
              "    </tr>\n",
              "    <tr>\n",
              "        <td>Adidas</td>\n",
              "        <td>2575</td>\n",
              "    </tr>\n",
              "</table>"
            ],
            "text/plain": [
              "[(None, 0), ('Nike', 545), ('Adidas', 2575)]"
            ]
          },
          "execution_count": 5,
          "metadata": {},
          "output_type": "execute_result"
        }
      ],
      "source": [
        "%%sql\n",
        "\n",
        "SELECT brand, count(brand)\n",
        "FROM brands\n",
        "GROUP BY brand;"
      ]
    },
    {
      "cell_type": "code",
      "execution_count": null,
      "metadata": {
        "dc": {
          "key": "8"
        },
        "tags": [
          "sample_code"
        ],
        "id": "p7DagqRR42ZU",
        "outputId": "d2a5c7de-2255-443f-bbc7-6964d4223e42"
      },
      "outputs": [
        {
          "name": "stdout",
          "output_type": "stream",
          "text": [
            "1 rows affected.\n"
          ]
        },
        {
          "data": {
            "text/html": [
              "<table>\n",
              "    <tr>\n",
              "        <th>total_rows</th>\n",
              "        <th>count_description</th>\n",
              "        <th>count_listing_price</th>\n",
              "        <th>count_reviews</th>\n",
              "        <th>count_last_visited</th>\n",
              "        <th>count_brand</th>\n",
              "    </tr>\n",
              "    <tr>\n",
              "        <td>3179</td>\n",
              "        <td>3117</td>\n",
              "        <td>3120</td>\n",
              "        <td>3120</td>\n",
              "        <td>2928</td>\n",
              "        <td>3120</td>\n",
              "    </tr>\n",
              "</table>"
            ],
            "text/plain": [
              "[(3179, 3117, 3120, 3120, 2928, 3120)]"
            ]
          },
          "execution_count": 5,
          "metadata": {},
          "output_type": "execute_result"
        }
      ],
      "source": [
        "%%sql\n",
        "postgresql:///sports\n",
        "\n",
        "-- 1. Count all columns and compare with total rows to have an idea abput the missing values\n",
        "\n",
        "SELECT COUNT(*) AS total_rows,\n",
        "    COUNT(i.description) AS count_description,\n",
        "    COUNT(f.listing_price) AS count_listing_price,\n",
        "    COUNT(r.reviews) AS count_reviews,\n",
        "    COUNT(t.last_visited) AS count_last_visited,\n",
        "    COUNT(b.brand) AS count_brand\n",
        "FROM info AS i\n",
        "INNER JOIN finance AS f\n",
        "    ON i.product_id = f.product_id\n",
        "INNER JOIN reviews AS r\n",
        "    ON f.product_id = r.product_id\n",
        "INNER JOIN traffic AS t\n",
        "    ON t.product_id = r.product_id\n",
        "INNER JOIN brands AS b\n",
        "    ON t.product_id = b.product_id;"
      ]
    },
    {
      "cell_type": "code",
      "execution_count": null,
      "metadata": {
        "dc": {
          "key": "18"
        },
        "id": "rmX3ujac42ZV",
        "outputId": "1dc0bce7-05fd-4221-ef10-9d81e4a331b2"
      },
      "outputs": [
        {
          "name": "stdout",
          "output_type": "stream",
          "text": [
            " * postgresql:///sports\n",
            "3 rows affected.\n"
          ]
        },
        {
          "data": {
            "text/html": [
              "<table>\n",
              "    <tr>\n",
              "        <th>brand</th>\n",
              "    </tr>\n",
              "    <tr>\n",
              "        <td>None</td>\n",
              "    </tr>\n",
              "    <tr>\n",
              "        <td>Nike</td>\n",
              "    </tr>\n",
              "    <tr>\n",
              "        <td>Adidas</td>\n",
              "    </tr>\n",
              "</table>"
            ],
            "text/plain": [
              "[(None,), ('Nike',), ('Adidas',)]"
            ]
          },
          "execution_count": 10,
          "metadata": {},
          "output_type": "execute_result"
        }
      ],
      "source": [
        "%%sql\n",
        "\n",
        "-- 2.Exploring brands\n",
        "\n",
        "SELECT DISTINCT brand\n",
        "FROM brands;"
      ]
    },
    {
      "cell_type": "code",
      "execution_count": null,
      "metadata": {
        "dc": {
          "key": "18"
        },
        "tags": [
          "sample_code"
        ],
        "id": "gkth37Kg42ZV",
        "outputId": "f022d328-aa57-40ed-e7a1-ef57fef201e9"
      },
      "outputs": [
        {
          "name": "stdout",
          "output_type": "stream",
          "text": [
            " * postgresql:///sports\n",
            "77 rows affected.\n"
          ]
        },
        {
          "data": {
            "text/html": [
              "<table>\n",
              "    <tr>\n",
              "        <th>brand</th>\n",
              "        <th>listing_price</th>\n",
              "        <th>count</th>\n",
              "    </tr>\n",
              "    <tr>\n",
              "        <td>Adidas</td>\n",
              "        <td>300</td>\n",
              "        <td>2</td>\n",
              "    </tr>\n",
              "    <tr>\n",
              "        <td>Adidas</td>\n",
              "        <td>280</td>\n",
              "        <td>4</td>\n",
              "    </tr>\n",
              "    <tr>\n",
              "        <td>Adidas</td>\n",
              "        <td>240</td>\n",
              "        <td>5</td>\n",
              "    </tr>\n",
              "    <tr>\n",
              "        <td>Adidas</td>\n",
              "        <td>230</td>\n",
              "        <td>8</td>\n",
              "    </tr>\n",
              "    <tr>\n",
              "        <td>Adidas</td>\n",
              "        <td>220</td>\n",
              "        <td>11</td>\n",
              "    </tr>\n",
              "    <tr>\n",
              "        <td>Nike</td>\n",
              "        <td>200</td>\n",
              "        <td>1</td>\n",
              "    </tr>\n",
              "    <tr>\n",
              "        <td>Adidas</td>\n",
              "        <td>200</td>\n",
              "        <td>8</td>\n",
              "    </tr>\n",
              "    <tr>\n",
              "        <td>Nike</td>\n",
              "        <td>190</td>\n",
              "        <td>2</td>\n",
              "    </tr>\n",
              "    <tr>\n",
              "        <td>Adidas</td>\n",
              "        <td>190</td>\n",
              "        <td>7</td>\n",
              "    </tr>\n",
              "    <tr>\n",
              "        <td>Nike</td>\n",
              "        <td>180</td>\n",
              "        <td>4</td>\n",
              "    </tr>\n",
              "    <tr>\n",
              "        <td>Adidas</td>\n",
              "        <td>180</td>\n",
              "        <td>34</td>\n",
              "    </tr>\n",
              "    <tr>\n",
              "        <td>Nike</td>\n",
              "        <td>170</td>\n",
              "        <td>14</td>\n",
              "    </tr>\n",
              "    <tr>\n",
              "        <td>Adidas</td>\n",
              "        <td>170</td>\n",
              "        <td>27</td>\n",
              "    </tr>\n",
              "    <tr>\n",
              "        <td>Nike</td>\n",
              "        <td>160</td>\n",
              "        <td>31</td>\n",
              "    </tr>\n",
              "    <tr>\n",
              "        <td>Adidas</td>\n",
              "        <td>160</td>\n",
              "        <td>28</td>\n",
              "    </tr>\n",
              "    <tr>\n",
              "        <td>Adidas</td>\n",
              "        <td>150</td>\n",
              "        <td>41</td>\n",
              "    </tr>\n",
              "    <tr>\n",
              "        <td>Nike</td>\n",
              "        <td>150</td>\n",
              "        <td>6</td>\n",
              "    </tr>\n",
              "    <tr>\n",
              "        <td>Adidas</td>\n",
              "        <td>140</td>\n",
              "        <td>36</td>\n",
              "    </tr>\n",
              "    <tr>\n",
              "        <td>Nike</td>\n",
              "        <td>140</td>\n",
              "        <td>12</td>\n",
              "    </tr>\n",
              "    <tr>\n",
              "        <td>Adidas</td>\n",
              "        <td>130</td>\n",
              "        <td>96</td>\n",
              "    </tr>\n",
              "    <tr>\n",
              "        <td>Nike</td>\n",
              "        <td>130</td>\n",
              "        <td>12</td>\n",
              "    </tr>\n",
              "    <tr>\n",
              "        <td>Adidas</td>\n",
              "        <td>120</td>\n",
              "        <td>115</td>\n",
              "    </tr>\n",
              "    <tr>\n",
              "        <td>Nike</td>\n",
              "        <td>120</td>\n",
              "        <td>16</td>\n",
              "    </tr>\n",
              "    <tr>\n",
              "        <td>Nike</td>\n",
              "        <td>110</td>\n",
              "        <td>17</td>\n",
              "    </tr>\n",
              "    <tr>\n",
              "        <td>Adidas</td>\n",
              "        <td>110</td>\n",
              "        <td>91</td>\n",
              "    </tr>\n",
              "    <tr>\n",
              "        <td>Nike</td>\n",
              "        <td>100</td>\n",
              "        <td>14</td>\n",
              "    </tr>\n",
              "    <tr>\n",
              "        <td>Adidas</td>\n",
              "        <td>100</td>\n",
              "        <td>72</td>\n",
              "    </tr>\n",
              "    <tr>\n",
              "        <td>Adidas</td>\n",
              "        <td>96</td>\n",
              "        <td>2</td>\n",
              "    </tr>\n",
              "    <tr>\n",
              "        <td>Nike</td>\n",
              "        <td>95</td>\n",
              "        <td>1</td>\n",
              "    </tr>\n",
              "    <tr>\n",
              "        <td>Nike</td>\n",
              "        <td>90</td>\n",
              "        <td>13</td>\n",
              "    </tr>\n",
              "    <tr>\n",
              "        <td>Adidas</td>\n",
              "        <td>90</td>\n",
              "        <td>89</td>\n",
              "    </tr>\n",
              "    <tr>\n",
              "        <td>Adidas</td>\n",
              "        <td>86</td>\n",
              "        <td>7</td>\n",
              "    </tr>\n",
              "    <tr>\n",
              "        <td>Nike</td>\n",
              "        <td>85</td>\n",
              "        <td>5</td>\n",
              "    </tr>\n",
              "    <tr>\n",
              "        <td>Adidas</td>\n",
              "        <td>85</td>\n",
              "        <td>1</td>\n",
              "    </tr>\n",
              "    <tr>\n",
              "        <td>Adidas</td>\n",
              "        <td>80</td>\n",
              "        <td>322</td>\n",
              "    </tr>\n",
              "    <tr>\n",
              "        <td>Nike</td>\n",
              "        <td>80</td>\n",
              "        <td>16</td>\n",
              "    </tr>\n",
              "    <tr>\n",
              "        <td>Nike</td>\n",
              "        <td>79</td>\n",
              "        <td>1</td>\n",
              "    </tr>\n",
              "    <tr>\n",
              "        <td>Adidas</td>\n",
              "        <td>76</td>\n",
              "        <td>149</td>\n",
              "    </tr>\n",
              "    <tr>\n",
              "        <td>Adidas</td>\n",
              "        <td>75</td>\n",
              "        <td>1</td>\n",
              "    </tr>\n",
              "    <tr>\n",
              "        <td>Nike</td>\n",
              "        <td>75</td>\n",
              "        <td>7</td>\n",
              "    </tr>\n",
              "    <tr>\n",
              "        <td>Adidas</td>\n",
              "        <td>70</td>\n",
              "        <td>87</td>\n",
              "    </tr>\n",
              "    <tr>\n",
              "        <td>Nike</td>\n",
              "        <td>70</td>\n",
              "        <td>4</td>\n",
              "    </tr>\n",
              "    <tr>\n",
              "        <td>Adidas</td>\n",
              "        <td>66</td>\n",
              "        <td>102</td>\n",
              "    </tr>\n",
              "    <tr>\n",
              "        <td>Nike</td>\n",
              "        <td>65</td>\n",
              "        <td>1</td>\n",
              "    </tr>\n",
              "    <tr>\n",
              "        <td>Adidas</td>\n",
              "        <td>63</td>\n",
              "        <td>1</td>\n",
              "    </tr>\n",
              "    <tr>\n",
              "        <td>Nike</td>\n",
              "        <td>60</td>\n",
              "        <td>2</td>\n",
              "    </tr>\n",
              "    <tr>\n",
              "        <td>Adidas</td>\n",
              "        <td>60</td>\n",
              "        <td>211</td>\n",
              "    </tr>\n",
              "    <tr>\n",
              "        <td>Adidas</td>\n",
              "        <td>56</td>\n",
              "        <td>174</td>\n",
              "    </tr>\n",
              "    <tr>\n",
              "        <td>Adidas</td>\n",
              "        <td>55</td>\n",
              "        <td>2</td>\n",
              "    </tr>\n",
              "    <tr>\n",
              "        <td>Adidas</td>\n",
              "        <td>53</td>\n",
              "        <td>43</td>\n",
              "    </tr>\n",
              "    <tr>\n",
              "        <td>Nike</td>\n",
              "        <td>50</td>\n",
              "        <td>5</td>\n",
              "    </tr>\n",
              "    <tr>\n",
              "        <td>Adidas</td>\n",
              "        <td>50</td>\n",
              "        <td>183</td>\n",
              "    </tr>\n",
              "    <tr>\n",
              "        <td>Adidas</td>\n",
              "        <td>48</td>\n",
              "        <td>42</td>\n",
              "    </tr>\n",
              "    <tr>\n",
              "        <td>Nike</td>\n",
              "        <td>48</td>\n",
              "        <td>1</td>\n",
              "    </tr>\n",
              "    <tr>\n",
              "        <td>Adidas</td>\n",
              "        <td>46</td>\n",
              "        <td>163</td>\n",
              "    </tr>\n",
              "    <tr>\n",
              "        <td>Nike</td>\n",
              "        <td>45</td>\n",
              "        <td>3</td>\n",
              "    </tr>\n",
              "    <tr>\n",
              "        <td>Adidas</td>\n",
              "        <td>45</td>\n",
              "        <td>1</td>\n",
              "    </tr>\n",
              "    <tr>\n",
              "        <td>Adidas</td>\n",
              "        <td>43</td>\n",
              "        <td>51</td>\n",
              "    </tr>\n",
              "    <tr>\n",
              "        <td>Adidas</td>\n",
              "        <td>40</td>\n",
              "        <td>81</td>\n",
              "    </tr>\n",
              "    <tr>\n",
              "        <td>Nike</td>\n",
              "        <td>40</td>\n",
              "        <td>1</td>\n",
              "    </tr>\n",
              "    <tr>\n",
              "        <td>Adidas</td>\n",
              "        <td>38</td>\n",
              "        <td>24</td>\n",
              "    </tr>\n",
              "    <tr>\n",
              "        <td>Adidas</td>\n",
              "        <td>36</td>\n",
              "        <td>25</td>\n",
              "    </tr>\n",
              "    <tr>\n",
              "        <td>Adidas</td>\n",
              "        <td>33</td>\n",
              "        <td>24</td>\n",
              "    </tr>\n",
              "    <tr>\n",
              "        <td>Adidas</td>\n",
              "        <td>30</td>\n",
              "        <td>37</td>\n",
              "    </tr>\n",
              "    <tr>\n",
              "        <td>Nike</td>\n",
              "        <td>30</td>\n",
              "        <td>2</td>\n",
              "    </tr>\n",
              "    <tr>\n",
              "        <td>Adidas</td>\n",
              "        <td>28</td>\n",
              "        <td>38</td>\n",
              "    </tr>\n",
              "    <tr>\n",
              "        <td>Adidas</td>\n",
              "        <td>27</td>\n",
              "        <td>18</td>\n",
              "    </tr>\n",
              "    <tr>\n",
              "        <td>Adidas</td>\n",
              "        <td>25</td>\n",
              "        <td>28</td>\n",
              "    </tr>\n",
              "    <tr>\n",
              "        <td>Adidas</td>\n",
              "        <td>23</td>\n",
              "        <td>1</td>\n",
              "    </tr>\n",
              "    <tr>\n",
              "        <td>Adidas</td>\n",
              "        <td>20</td>\n",
              "        <td>8</td>\n",
              "    </tr>\n",
              "    <tr>\n",
              "        <td>Adidas</td>\n",
              "        <td>18</td>\n",
              "        <td>4</td>\n",
              "    </tr>\n",
              "    <tr>\n",
              "        <td>Adidas</td>\n",
              "        <td>16</td>\n",
              "        <td>4</td>\n",
              "    </tr>\n",
              "    <tr>\n",
              "        <td>Adidas</td>\n",
              "        <td>15</td>\n",
              "        <td>27</td>\n",
              "    </tr>\n",
              "    <tr>\n",
              "        <td>Adidas</td>\n",
              "        <td>13</td>\n",
              "        <td>27</td>\n",
              "    </tr>\n",
              "    <tr>\n",
              "        <td>Adidas</td>\n",
              "        <td>12</td>\n",
              "        <td>1</td>\n",
              "    </tr>\n",
              "    <tr>\n",
              "        <td>Adidas</td>\n",
              "        <td>10</td>\n",
              "        <td>11</td>\n",
              "    </tr>\n",
              "    <tr>\n",
              "        <td>Adidas</td>\n",
              "        <td>9</td>\n",
              "        <td>1</td>\n",
              "    </tr>\n",
              "</table>"
            ],
            "text/plain": [
              "[('Adidas', 300, 2),\n",
              " ('Adidas', 280, 4),\n",
              " ('Adidas', 240, 5),\n",
              " ('Adidas', 230, 8),\n",
              " ('Adidas', 220, 11),\n",
              " ('Nike', 200, 1),\n",
              " ('Adidas', 200, 8),\n",
              " ('Nike', 190, 2),\n",
              " ('Adidas', 190, 7),\n",
              " ('Nike', 180, 4),\n",
              " ('Adidas', 180, 34),\n",
              " ('Nike', 170, 14),\n",
              " ('Adidas', 170, 27),\n",
              " ('Nike', 160, 31),\n",
              " ('Adidas', 160, 28),\n",
              " ('Adidas', 150, 41),\n",
              " ('Nike', 150, 6),\n",
              " ('Adidas', 140, 36),\n",
              " ('Nike', 140, 12),\n",
              " ('Adidas', 130, 96),\n",
              " ('Nike', 130, 12),\n",
              " ('Adidas', 120, 115),\n",
              " ('Nike', 120, 16),\n",
              " ('Nike', 110, 17),\n",
              " ('Adidas', 110, 91),\n",
              " ('Nike', 100, 14),\n",
              " ('Adidas', 100, 72),\n",
              " ('Adidas', 96, 2),\n",
              " ('Nike', 95, 1),\n",
              " ('Nike', 90, 13),\n",
              " ('Adidas', 90, 89),\n",
              " ('Adidas', 86, 7),\n",
              " ('Nike', 85, 5),\n",
              " ('Adidas', 85, 1),\n",
              " ('Adidas', 80, 322),\n",
              " ('Nike', 80, 16),\n",
              " ('Nike', 79, 1),\n",
              " ('Adidas', 76, 149),\n",
              " ('Adidas', 75, 1),\n",
              " ('Nike', 75, 7),\n",
              " ('Adidas', 70, 87),\n",
              " ('Nike', 70, 4),\n",
              " ('Adidas', 66, 102),\n",
              " ('Nike', 65, 1),\n",
              " ('Adidas', 63, 1),\n",
              " ('Nike', 60, 2),\n",
              " ('Adidas', 60, 211),\n",
              " ('Adidas', 56, 174),\n",
              " ('Adidas', 55, 2),\n",
              " ('Adidas', 53, 43),\n",
              " ('Nike', 50, 5),\n",
              " ('Adidas', 50, 183),\n",
              " ('Adidas', 48, 42),\n",
              " ('Nike', 48, 1),\n",
              " ('Adidas', 46, 163),\n",
              " ('Nike', 45, 3),\n",
              " ('Adidas', 45, 1),\n",
              " ('Adidas', 43, 51),\n",
              " ('Adidas', 40, 81),\n",
              " ('Nike', 40, 1),\n",
              " ('Adidas', 38, 24),\n",
              " ('Adidas', 36, 25),\n",
              " ('Adidas', 33, 24),\n",
              " ('Adidas', 30, 37),\n",
              " ('Nike', 30, 2),\n",
              " ('Adidas', 28, 38),\n",
              " ('Adidas', 27, 18),\n",
              " ('Adidas', 25, 28),\n",
              " ('Adidas', 23, 1),\n",
              " ('Adidas', 20, 8),\n",
              " ('Adidas', 18, 4),\n",
              " ('Adidas', 16, 4),\n",
              " ('Adidas', 15, 27),\n",
              " ('Adidas', 13, 27),\n",
              " ('Adidas', 12, 1),\n",
              " ('Adidas', 10, 11),\n",
              " ('Adidas', 9, 1)]"
            ]
          },
          "execution_count": 15,
          "metadata": {},
          "output_type": "execute_result"
        }
      ],
      "source": [
        "%%sql\n",
        "\n",
        "-- 3.Compare brands (Nike and Adidas) listings prices\n",
        "\n",
        "SELECT b.brand,\n",
        "       f.listing_price::integer,\n",
        "       count(f.*)\n",
        "FROM brands AS b\n",
        "INNER JOIN finance AS f\n",
        "    ON b.product_id=f.product_id\n",
        "WHERE listing_price > 0\n",
        "Group BY b.brand, f.listing_price\n",
        "ORDER BY listing_price DESC;\n",
        "\n",
        "-- 77 unique prices"
      ]
    },
    {
      "cell_type": "code",
      "execution_count": null,
      "metadata": {
        "dc": {
          "key": "27"
        },
        "tags": [
          "sample_code"
        ],
        "id": "xAQIdKEu42ZV",
        "outputId": "f02335d9-5902-43e8-9738-e45442d4a9d9"
      },
      "outputs": [
        {
          "name": "stdout",
          "output_type": "stream",
          "text": [
            " * postgresql:///sports\n",
            "8 rows affected.\n"
          ]
        },
        {
          "data": {
            "text/html": [
              "<table>\n",
              "    <tr>\n",
              "        <th>brand</th>\n",
              "        <th>count</th>\n",
              "        <th>total_revenue</th>\n",
              "        <th>price_category</th>\n",
              "    </tr>\n",
              "    <tr>\n",
              "        <td>Adidas</td>\n",
              "        <td>513</td>\n",
              "        <td>4451434.25</td>\n",
              "        <td>Elite</td>\n",
              "    </tr>\n",
              "    <tr>\n",
              "        <td>Adidas</td>\n",
              "        <td>642</td>\n",
              "        <td>3186514.65</td>\n",
              "        <td>Expensive</td>\n",
              "    </tr>\n",
              "    <tr>\n",
              "        <td>Adidas</td>\n",
              "        <td>621</td>\n",
              "        <td>2087977.499999999</td>\n",
              "        <td>Average</td>\n",
              "    </tr>\n",
              "    <tr>\n",
              "        <td>Adidas</td>\n",
              "        <td>799</td>\n",
              "        <td>1800692.6800000004</td>\n",
              "        <td>Budget</td>\n",
              "    </tr>\n",
              "    <tr>\n",
              "        <td>Nike</td>\n",
              "        <td>115</td>\n",
              "        <td>155260.3500000001</td>\n",
              "        <td>Elite</td>\n",
              "    </tr>\n",
              "    <tr>\n",
              "        <td>Nike</td>\n",
              "        <td>50</td>\n",
              "        <td>43439.20000000001</td>\n",
              "        <td>Expensive</td>\n",
              "    </tr>\n",
              "    <tr>\n",
              "        <td>Nike</td>\n",
              "        <td>12</td>\n",
              "        <td>5911.75</td>\n",
              "        <td>Budget</td>\n",
              "    </tr>\n",
              "    <tr>\n",
              "        <td>Nike</td>\n",
              "        <td>14</td>\n",
              "        <td>2676.1099999999997</td>\n",
              "        <td>Average</td>\n",
              "    </tr>\n",
              "</table>"
            ],
            "text/plain": [
              "[('Adidas', 513, 4451434.25, 'Elite'),\n",
              " ('Adidas', 642, 3186514.65, 'Expensive'),\n",
              " ('Adidas', 621, 2087977.499999999, 'Average'),\n",
              " ('Adidas', 799, 1800692.6800000004, 'Budget'),\n",
              " ('Nike', 115, 155260.3500000001, 'Elite'),\n",
              " ('Nike', 50, 43439.20000000001, 'Expensive'),\n",
              " ('Nike', 12, 5911.75, 'Budget'),\n",
              " ('Nike', 14, 2676.1099999999997, 'Average')]"
            ]
          },
          "execution_count": 28,
          "metadata": {},
          "output_type": "execute_result"
        }
      ],
      "source": [
        "%%sql\n",
        "\n",
        "-- 4. Creating a price range to have a better idea of sales of each price category\n",
        "\n",
        "SELECT b.brand,\n",
        "       COUNT(f.*),\n",
        "       SUM(f.revenue) as total_revenue,\n",
        "       CASE WHEN f.listing_price < 50 THEN 'Budget'\n",
        "            WHEN f.listing_price >= 50 AND f.listing_price < 75 THEN 'Average'\n",
        "            WHEN f.listing_price >= 75 AND f.listing_price < 100 THEN 'Expensive'\n",
        "            ELSE 'Elite' END AS price_category\n",
        "FROM finance AS f\n",
        "INNER JOIN brands AS b\n",
        "    ON f.product_id = b.product_id\n",
        "WHERE b.brand IS NOT NULL AND listing_price > 0\n",
        "GROUP BY b.brand, price_category\n",
        "ORDER BY total_revenue DESC;\n"
      ]
    },
    {
      "cell_type": "code",
      "execution_count": null,
      "metadata": {
        "dc": {
          "key": "38"
        },
        "tags": [
          "sample_code"
        ],
        "id": "-Nsi-em742ZW",
        "outputId": "79934d49-27b8-4efa-d121-6b2f9f7d6e62"
      },
      "outputs": [
        {
          "name": "stdout",
          "output_type": "stream",
          "text": [
            " * postgresql:///sports\n",
            "2 rows affected.\n"
          ]
        },
        {
          "data": {
            "text/html": [
              "<table>\n",
              "    <tr>\n",
              "        <th>brand</th>\n",
              "        <th>average_discount</th>\n",
              "        <th>total_revenue</th>\n",
              "    </tr>\n",
              "    <tr>\n",
              "        <td>Nike</td>\n",
              "        <td>0.0</td>\n",
              "        <td>802283.2599999993</td>\n",
              "    </tr>\n",
              "    <tr>\n",
              "        <td>Adidas</td>\n",
              "        <td>33.452427184465606</td>\n",
              "        <td>11526619.080000037</td>\n",
              "    </tr>\n",
              "</table>"
            ],
            "text/plain": [
              "[('Nike', 0.0, 802283.2599999993),\n",
              " ('Adidas', 33.452427184465606, 11526619.080000037)]"
            ]
          },
          "execution_count": 34,
          "metadata": {},
          "output_type": "execute_result"
        }
      ],
      "source": [
        "%%sql\n",
        "\n",
        "-- 5. Calculating averagr discpunt of each brand\n",
        "\n",
        "SELECT b.brand,\n",
        "       AVG(f.discount)*100 AS average_discount,\n",
        "       SUM(f.revenue) as total_revenue\n",
        "FROM brands AS b\n",
        "INNER JOIN finance AS f\n",
        "    ON b.product_id = f.product_id\n",
        "GROUP BY b.brand\n",
        "HAVING b.brand IS NOT NULL\n",
        "ORDER BY average_discount;\n"
      ]
    },
    {
      "cell_type": "code",
      "execution_count": null,
      "metadata": {
        "dc": {
          "key": "38"
        },
        "id": "rfqYHhWx42ZW",
        "outputId": "48e2c33c-90fc-489f-92f3-c768a1fc9649"
      },
      "outputs": [
        {
          "name": "stdout",
          "output_type": "stream",
          "text": [
            " * postgresql:///sports\n",
            "4 rows affected.\n"
          ]
        },
        {
          "data": {
            "text/html": [
              "<table>\n",
              "    <tr>\n",
              "        <th>brand</th>\n",
              "        <th>count</th>\n",
              "        <th>average_discount</th>\n",
              "        <th>total_revenue</th>\n",
              "        <th>price_category</th>\n",
              "    </tr>\n",
              "    <tr>\n",
              "        <td>Adidas</td>\n",
              "        <td>513</td>\n",
              "        <td>29.395711500974713</td>\n",
              "        <td>4451434.25</td>\n",
              "        <td>Elite</td>\n",
              "    </tr>\n",
              "    <tr>\n",
              "        <td>Adidas</td>\n",
              "        <td>642</td>\n",
              "        <td>33.16199376947051</td>\n",
              "        <td>3186514.65</td>\n",
              "        <td>Expensive</td>\n",
              "    </tr>\n",
              "    <tr>\n",
              "        <td>Adidas</td>\n",
              "        <td>621</td>\n",
              "        <td>36.44122383252829</td>\n",
              "        <td>2087977.499999999</td>\n",
              "        <td>Average</td>\n",
              "    </tr>\n",
              "    <tr>\n",
              "        <td>Adidas</td>\n",
              "        <td>799</td>\n",
              "        <td>33.96745932415527</td>\n",
              "        <td>1800692.6800000004</td>\n",
              "        <td>Budget</td>\n",
              "    </tr>\n",
              "</table>"
            ],
            "text/plain": [
              "[('Adidas', 513, 29.395711500974713, 4451434.25, 'Elite'),\n",
              " ('Adidas', 642, 33.16199376947051, 3186514.65, 'Expensive'),\n",
              " ('Adidas', 621, 36.44122383252829, 2087977.499999999, 'Average'),\n",
              " ('Adidas', 799, 33.96745932415527, 1800692.6800000004, 'Budget')]"
            ]
          },
          "execution_count": 37,
          "metadata": {},
          "output_type": "execute_result"
        }
      ],
      "source": [
        "%%sql\n",
        "\n",
        "-- Surprisingly, Nike products has no discount in this dataset.\n",
        "-- In comparison, not only do Adidas products generate the most revenue, but these products are also heavily discounted!\n",
        "\n",
        "-- 6. finding Adidas average discount for each product category\n",
        "\n",
        "SELECT b.brand,\n",
        "       COUNT(f.*),\n",
        "       AVG(f.discount)*100 AS average_discount,\n",
        "       SUM(f.revenue) as total_revenue,\n",
        "       CASE WHEN f.listing_price < 50 THEN 'Budget'\n",
        "            WHEN f.listing_price >= 50 AND f.listing_price < 75 THEN 'Average'\n",
        "            WHEN f.listing_price >= 75 AND f.listing_price < 100 THEN 'Expensive'\n",
        "            ELSE 'Elite' END AS price_category\n",
        "FROM finance AS f\n",
        "INNER JOIN brands AS b\n",
        "    ON f.product_id = b.product_id\n",
        "WHERE b.brand = 'Adidas'\n",
        "GROUP BY b.brand, price_category\n",
        "ORDER BY total_revenue DESC;"
      ]
    },
    {
      "cell_type": "code",
      "execution_count": null,
      "metadata": {
        "dc": {
          "key": "48"
        },
        "id": "XGhgpyQp42ZW",
        "outputId": "9d1505b5-a234-4549-f0fc-41571e26b57d"
      },
      "outputs": [
        {
          "name": "stdout",
          "output_type": "stream",
          "text": [
            " * postgresql:///sports\n",
            "1 rows affected.\n"
          ]
        },
        {
          "data": {
            "text/html": [
              "<table>\n",
              "    <tr>\n",
              "        <th>revenue_discount_corr</th>\n",
              "        <th>revenue_price_corr</th>\n",
              "    </tr>\n",
              "    <tr>\n",
              "        <td>-0.12477306443300586</td>\n",
              "        <td>0.47895093705399755</td>\n",
              "    </tr>\n",
              "</table>"
            ],
            "text/plain": [
              "[(-0.12477306443300586, 0.47895093705399755)]"
            ]
          },
          "execution_count": 11,
          "metadata": {},
          "output_type": "execute_result"
        }
      ],
      "source": [
        "%%sql\n",
        "\n",
        "-- 7. Coorelation between revenue and discount/price\n",
        "\n",
        "-- To improve revenue further, the company could try to reduce the amount of discount offered on Adidas products.\n",
        "-- Lets explore the coorelation between discount and revenue.\n",
        "\n",
        "SELECT corr(revenue, discount) AS revenue_discount_corr,\n",
        "       corr(revenue, listing_price) AS revenue_price_corr\n",
        "FROM finance;\n",
        "\n",
        "-- There is a weak negative and negative correlation between revenue and discount.\n",
        "-- There is a positve and relatively considerable correlation between revenue and price."
      ]
    },
    {
      "cell_type": "code",
      "execution_count": null,
      "metadata": {
        "dc": {
          "key": "48"
        },
        "id": "_GrsYjNH42ZX",
        "outputId": "672d71e3-313a-4dc0-e548-9435e3217873"
      },
      "outputs": [
        {
          "name": "stdout",
          "output_type": "stream",
          "text": [
            " * postgresql:///sports\n",
            "1 rows affected.\n"
          ]
        },
        {
          "data": {
            "text/html": [
              "<table>\n",
              "    <tr>\n",
              "        <th>ratings_reviews_corr</th>\n",
              "    </tr>\n",
              "    <tr>\n",
              "        <td>0.1250511569304693</td>\n",
              "    </tr>\n",
              "</table>"
            ],
            "text/plain": [
              "[(0.1250511569304693,)]"
            ]
          },
          "execution_count": 6,
          "metadata": {},
          "output_type": "execute_result"
        }
      ],
      "source": [
        "%%sql\n",
        "\n",
        "-- 8. Rating or Reviews or both?\n",
        "\n",
        "SELECT corr(rating, reviews) AS ratings_reviews_corr\n",
        "FROM reviews;\n",
        "\n",
        "-- They are not strongly corrolated. So, we should incorporate both in the Analyses."
      ]
    },
    {
      "cell_type": "code",
      "execution_count": null,
      "metadata": {
        "dc": {
          "key": "48"
        },
        "id": "Q29-5bar42ZX",
        "outputId": "1b701325-8995-4916-e98e-3e6b92fb94fa"
      },
      "outputs": [
        {
          "name": "stdout",
          "output_type": "stream",
          "text": [
            " * postgresql:///sports\n",
            "1 rows affected.\n"
          ]
        },
        {
          "data": {
            "text/html": [
              "<table>\n",
              "    <tr>\n",
              "        <th>review_revenue_corr</th>\n",
              "        <th>rating_revenue_corr</th>\n",
              "    </tr>\n",
              "    <tr>\n",
              "        <td>0.6518512283481301</td>\n",
              "        <td>0.1144933557384944</td>\n",
              "    </tr>\n",
              "</table>"
            ],
            "text/plain": [
              "[(0.6518512283481301, 0.1144933557384944)]"
            ]
          },
          "execution_count": 8,
          "metadata": {},
          "output_type": "execute_result"
        }
      ],
      "source": [
        "%%sql\n",
        "\n",
        "-- 9. Correlation between revenue, rating, and reviews:\n",
        "\n",
        "SELECT corr(r.reviews, f.revenue) AS review_revenue_corr,\n",
        "       corr(r.rating, f.revenue) AS rating_revenue_corr\n",
        "FROM reviews AS r\n",
        "INNER JOIN finance AS f\n",
        "    ON r.product_id = f.product_id;\n",
        "\n",
        "-- There is a positive considerable correlation between reviews and revenue on a product.\n",
        "\n",
        "\n"
      ]
    },
    {
      "cell_type": "code",
      "execution_count": null,
      "metadata": {
        "dc": {
          "key": "58"
        },
        "tags": [
          "sample_code"
        ],
        "id": "frbUfpTU42ZX",
        "outputId": "794857c2-a54c-4730-a529-c0ba4c50b455"
      },
      "outputs": [
        {
          "name": "stdout",
          "output_type": "stream",
          "text": [
            " * postgresql:///sports\n",
            "7 rows affected.\n"
          ]
        },
        {
          "data": {
            "text/html": [
              "<table>\n",
              "    <tr>\n",
              "        <th>description_length</th>\n",
              "        <th>average_reviews</th>\n",
              "    </tr>\n",
              "    <tr>\n",
              "        <td>0</td>\n",
              "        <td>4.00</td>\n",
              "    </tr>\n",
              "    <tr>\n",
              "        <td>100</td>\n",
              "        <td>33.00</td>\n",
              "    </tr>\n",
              "    <tr>\n",
              "        <td>200</td>\n",
              "        <td>42.68</td>\n",
              "    </tr>\n",
              "    <tr>\n",
              "        <td>300</td>\n",
              "        <td>44.52</td>\n",
              "    </tr>\n",
              "    <tr>\n",
              "        <td>400</td>\n",
              "        <td>42.69</td>\n",
              "    </tr>\n",
              "    <tr>\n",
              "        <td>500</td>\n",
              "        <td>56.80</td>\n",
              "    </tr>\n",
              "    <tr>\n",
              "        <td>600</td>\n",
              "        <td>54.53</td>\n",
              "    </tr>\n",
              "</table>"
            ],
            "text/plain": [
              "[(Decimal('0'), Decimal('4.00')),\n",
              " (Decimal('100'), Decimal('33.00')),\n",
              " (Decimal('200'), Decimal('42.68')),\n",
              " (Decimal('300'), Decimal('44.52')),\n",
              " (Decimal('400'), Decimal('42.69')),\n",
              " (Decimal('500'), Decimal('56.80')),\n",
              " (Decimal('600'), Decimal('54.53'))]"
            ]
          },
          "execution_count": 8,
          "metadata": {},
          "output_type": "execute_result"
        }
      ],
      "source": [
        "%%sql\n",
        "\n",
        "-- 10. Reviews and Description (length)\n",
        "\n",
        "-- Perhaps there is a relationship between product description length and product reviews\n",
        "\n",
        "SELECT TRUNC(LENGTH(i.description), -2) AS description_length,\n",
        "       ROUND(AVG(r.reviews::numeric),2) AS average_reviews\n",
        "FROM reviews AS r\n",
        "INNER JOIN info AS i\n",
        "    ON r.product_id=i.product_id\n",
        "WHERE i.description IS NOT NULL\n",
        "GROUP BY description_length\n",
        "ORDER BY description_length;\n",
        "\n",
        "-- Although there is 8 times less average review for less than 100 characters of description-\n",
        "-- comparing to the others between 100 and 200 characters,\n",
        "-- there is no strong correlation between description length and reviews."
      ]
    },
    {
      "cell_type": "code",
      "execution_count": null,
      "metadata": {
        "dc": {
          "key": "58"
        },
        "id": "AimW4JqK42ZX",
        "outputId": "931a6eec-a5b7-422a-eda5-16b3cea99caa"
      },
      "outputs": [
        {
          "name": "stdout",
          "output_type": "stream",
          "text": [
            " * postgresql:///sports\n",
            "1 rows affected.\n"
          ]
        },
        {
          "data": {
            "text/html": [
              "<table>\n",
              "    <tr>\n",
              "        <th>descriptionlength_reviews_corr</th>\n",
              "    </tr>\n",
              "    <tr>\n",
              "        <td>0.09675761989627682</td>\n",
              "    </tr>\n",
              "</table>"
            ],
            "text/plain": [
              "[(0.09675761989627682,)]"
            ]
          },
          "execution_count": 13,
          "metadata": {},
          "output_type": "execute_result"
        }
      ],
      "source": [
        "%%sql\n",
        "\n",
        "SELECT corr(LENGTH(i.description), r.reviews) AS descriptionLength_reviews_corr\n",
        "FROM reviews AS r\n",
        "INNER JOIN info as i\n",
        "    ON r.product_id = i.product_id;\n",
        "\n",
        "-- there doesnt appear to be a clear pattern between the length of a products description and its rating"
      ]
    },
    {
      "cell_type": "code",
      "execution_count": null,
      "metadata": {
        "dc": {
          "key": "68"
        },
        "tags": [
          "sample_code"
        ],
        "id": "8cyPZERc42ZY",
        "outputId": "9bdec44d-ae47-49b6-e90a-e89732185dd2"
      },
      "outputs": [
        {
          "name": "stdout",
          "output_type": "stream",
          "text": [
            " * postgresql:///sports\n",
            "24 rows affected.\n"
          ]
        },
        {
          "data": {
            "text/html": [
              "<table>\n",
              "    <tr>\n",
              "        <th>brand</th>\n",
              "        <th>num_reviews</th>\n",
              "        <th>month</th>\n",
              "    </tr>\n",
              "    <tr>\n",
              "        <td>Adidas</td>\n",
              "        <td>253</td>\n",
              "        <td>1.0</td>\n",
              "    </tr>\n",
              "    <tr>\n",
              "        <td>Adidas</td>\n",
              "        <td>272</td>\n",
              "        <td>2.0</td>\n",
              "    </tr>\n",
              "    <tr>\n",
              "        <td>Adidas</td>\n",
              "        <td>269</td>\n",
              "        <td>3.0</td>\n",
              "    </tr>\n",
              "    <tr>\n",
              "        <td>Adidas</td>\n",
              "        <td>180</td>\n",
              "        <td>4.0</td>\n",
              "    </tr>\n",
              "    <tr>\n",
              "        <td>Adidas</td>\n",
              "        <td>172</td>\n",
              "        <td>5.0</td>\n",
              "    </tr>\n",
              "    <tr>\n",
              "        <td>Adidas</td>\n",
              "        <td>159</td>\n",
              "        <td>6.0</td>\n",
              "    </tr>\n",
              "    <tr>\n",
              "        <td>Adidas</td>\n",
              "        <td>170</td>\n",
              "        <td>7.0</td>\n",
              "    </tr>\n",
              "    <tr>\n",
              "        <td>Adidas</td>\n",
              "        <td>189</td>\n",
              "        <td>8.0</td>\n",
              "    </tr>\n",
              "    <tr>\n",
              "        <td>Adidas</td>\n",
              "        <td>181</td>\n",
              "        <td>9.0</td>\n",
              "    </tr>\n",
              "    <tr>\n",
              "        <td>Adidas</td>\n",
              "        <td>192</td>\n",
              "        <td>10.0</td>\n",
              "    </tr>\n",
              "    <tr>\n",
              "        <td>Adidas</td>\n",
              "        <td>150</td>\n",
              "        <td>11.0</td>\n",
              "    </tr>\n",
              "    <tr>\n",
              "        <td>Adidas</td>\n",
              "        <td>190</td>\n",
              "        <td>12.0</td>\n",
              "    </tr>\n",
              "    <tr>\n",
              "        <td>Nike</td>\n",
              "        <td>52</td>\n",
              "        <td>1.0</td>\n",
              "    </tr>\n",
              "    <tr>\n",
              "        <td>Nike</td>\n",
              "        <td>52</td>\n",
              "        <td>2.0</td>\n",
              "    </tr>\n",
              "    <tr>\n",
              "        <td>Nike</td>\n",
              "        <td>55</td>\n",
              "        <td>3.0</td>\n",
              "    </tr>\n",
              "    <tr>\n",
              "        <td>Nike</td>\n",
              "        <td>42</td>\n",
              "        <td>4.0</td>\n",
              "    </tr>\n",
              "    <tr>\n",
              "        <td>Nike</td>\n",
              "        <td>41</td>\n",
              "        <td>5.0</td>\n",
              "    </tr>\n",
              "    <tr>\n",
              "        <td>Nike</td>\n",
              "        <td>43</td>\n",
              "        <td>6.0</td>\n",
              "    </tr>\n",
              "    <tr>\n",
              "        <td>Nike</td>\n",
              "        <td>37</td>\n",
              "        <td>7.0</td>\n",
              "    </tr>\n",
              "    <tr>\n",
              "        <td>Nike</td>\n",
              "        <td>29</td>\n",
              "        <td>8.0</td>\n",
              "    </tr>\n",
              "    <tr>\n",
              "        <td>Nike</td>\n",
              "        <td>28</td>\n",
              "        <td>9.0</td>\n",
              "    </tr>\n",
              "    <tr>\n",
              "        <td>Nike</td>\n",
              "        <td>47</td>\n",
              "        <td>10.0</td>\n",
              "    </tr>\n",
              "    <tr>\n",
              "        <td>Nike</td>\n",
              "        <td>38</td>\n",
              "        <td>11.0</td>\n",
              "    </tr>\n",
              "    <tr>\n",
              "        <td>Nike</td>\n",
              "        <td>35</td>\n",
              "        <td>12.0</td>\n",
              "    </tr>\n",
              "</table>"
            ],
            "text/plain": [
              "[('Adidas', 253, 1.0),\n",
              " ('Adidas', 272, 2.0),\n",
              " ('Adidas', 269, 3.0),\n",
              " ('Adidas', 180, 4.0),\n",
              " ('Adidas', 172, 5.0),\n",
              " ('Adidas', 159, 6.0),\n",
              " ('Adidas', 170, 7.0),\n",
              " ('Adidas', 189, 8.0),\n",
              " ('Adidas', 181, 9.0),\n",
              " ('Adidas', 192, 10.0),\n",
              " ('Adidas', 150, 11.0),\n",
              " ('Adidas', 190, 12.0),\n",
              " ('Nike', 52, 1.0),\n",
              " ('Nike', 52, 2.0),\n",
              " ('Nike', 55, 3.0),\n",
              " ('Nike', 42, 4.0),\n",
              " ('Nike', 41, 5.0),\n",
              " ('Nike', 43, 6.0),\n",
              " ('Nike', 37, 7.0),\n",
              " ('Nike', 29, 8.0),\n",
              " ('Nike', 28, 9.0),\n",
              " ('Nike', 47, 10.0),\n",
              " ('Nike', 38, 11.0),\n",
              " ('Nike', 35, 12.0)]"
            ]
          },
          "execution_count": 8,
          "metadata": {},
          "output_type": "execute_result"
        }
      ],
      "source": [
        "%%sql\n",
        "\n",
        "-- 11. Reviews by month and brand\n",
        "\n",
        "-- So far a correlation between reviews and revenue is evident.\n",
        "-- lets take a look at the volume of reviews by month to see if there are any trends we can exploit.\n",
        "\n",
        "SELECT b.brand,\n",
        "       count(r.reviews) AS num_reviews,\n",
        "       DATE_PART('month',t.last_visited) AS month\n",
        "FROM reviews AS r\n",
        "INNER JOIN traffic as t\n",
        "    ON r.product_id=t.product_id\n",
        "INNER JOIN brands as b\n",
        "    ON t.product_id=b.product_id\n",
        "GROUP BY brand, month\n",
        "HAVING b.brand IS NOT NULL\n",
        "    AND DATE_PART('month',t.last_visited) IS NOT NULL\n",
        "ORDER BY b.brand, month;\n",
        "\n",
        "-- There is a seasonality for both brands. The highest amount of reviews are in winter, following by fall.\n",
        "-- The companies can be benefitted by encouraging customers to write reviews in summer and spring."
      ]
    },
    {
      "cell_type": "code",
      "execution_count": null,
      "metadata": {
        "dc": {
          "key": "76"
        },
        "tags": [
          "sample_code"
        ],
        "id": "-ysQXJJ442ZY",
        "outputId": "8c6bbd7d-cf5a-427c-98f0-317349f5bc14"
      },
      "outputs": [
        {
          "name": "stdout",
          "output_type": "stream",
          "text": [
            " * postgresql:///sports\n",
            "1 rows affected.\n"
          ]
        },
        {
          "data": {
            "text/html": [
              "<table>\n",
              "    <tr>\n",
              "        <th>num_foot_products</th>\n",
              "        <th>median_foot_revenue</th>\n",
              "    </tr>\n",
              "    <tr>\n",
              "        <td>2760</td>\n",
              "        <td>3060.0</td>\n",
              "    </tr>\n",
              "</table>"
            ],
            "text/plain": [
              "[(2760, 3060.0)]"
            ]
          },
          "execution_count": 5,
          "metadata": {},
          "output_type": "execute_result"
        }
      ],
      "source": [
        "%%sql\n",
        "\n",
        "-- 12. Studying Products performance\n",
        "\n",
        "-- A Common Table Expression (CTE) to filter description for keywords: Footwear\n",
        "-- Investigating the median of the revenue from this product category\n",
        "\n",
        "WITH footwear AS\n",
        "(\n",
        "    SELECT i.description,\n",
        "           f.revenue\n",
        "    FROM info AS i\n",
        "    INNER JOIN finance AS f\n",
        "        ON i.product_id=f.product_id\n",
        "    WHERE description IS NOT NULL\n",
        "        AND i.description ILIKE '%shoe%'\n",
        "        OR i.description ILIKE '%trainer%'\n",
        "        OR i.description ILIKE '%foot%'\n",
        "        OR i.description ILIKE '%sneaker%'\n",
        "        OR i.description ILIKE '%sandal%'\n",
        "        OR i.description ILIKE '%slipper%'\n",
        ")\n",
        "\n",
        "SELECT COUNT(*) AS num_foot_products,\n",
        "    percentile_disc(0.5) WITHIN GROUP (ORDER BY revenue) AS median_foot_revenue\n",
        "FROM footwear;"
      ]
    },
    {
      "cell_type": "code",
      "execution_count": null,
      "metadata": {
        "dc": {
          "key": "86"
        },
        "tags": [
          "sample_code"
        ],
        "id": "wHEgXVnW42ZZ",
        "outputId": "efdc0d58-1781-4c07-965d-693488e0323a"
      },
      "outputs": [
        {
          "name": "stdout",
          "output_type": "stream",
          "text": [
            " * postgresql:///sports\n",
            "1 rows affected.\n"
          ]
        },
        {
          "data": {
            "text/html": [
              "<table>\n",
              "    <tr>\n",
              "        <th>num_nofoot_products</th>\n",
              "        <th>median_nofoot_revenue</th>\n",
              "    </tr>\n",
              "    <tr>\n",
              "        <td>357</td>\n",
              "        <td>453.44</td>\n",
              "    </tr>\n",
              "</table>"
            ],
            "text/plain": [
              "[(357, 453.44)]"
            ]
          },
          "execution_count": 6,
          "metadata": {},
          "output_type": "execute_result"
        }
      ],
      "source": [
        "%%sql\n",
        "\n",
        "-- Compare footwear performance with other products\n",
        "\n",
        "WITH footwear AS\n",
        "(\n",
        "    SELECT i.description,\n",
        "           f.revenue\n",
        "    FROM info AS i\n",
        "    INNER JOIN finance AS f\n",
        "        ON i.product_id=f.product_id\n",
        "    WHERE description IS NOT NULL\n",
        "        AND i.description ILIKE '%shoe%'\n",
        "        OR i.description ILIKE '%trainer%'\n",
        "        OR i.description ILIKE '%foot%'\n",
        "        OR i.description ILIKE '%sneaker%'\n",
        "        OR i.description ILIKE '%sandal%'\n",
        "        OR i.description ILIKE '%slipper%'\n",
        ")\n",
        "\n",
        "SELECT COUNT(i.*) AS num_nofoot_products,\n",
        "    percentile_disc(0.5) WITHIN GROUP (ORDER BY f.revenue) AS median_nofoot_revenue\n",
        "FROM info AS i\n",
        "INNER JOIN finance AS f\n",
        "    ON i.product_id = f.product_id\n",
        "WHERE i.description NOT IN (SELECT description FROM footwear);\n",
        "\n",
        "-- The category of footwears is almost 8 times larger in size and median revenue than other products combined"
      ]
    }
  ],
  "metadata": {
    "kernelspec": {
      "display_name": "Python 3 (ipykernel)",
      "language": "python",
      "name": "python3"
    },
    "language_info": {
      "codemirror_mode": {
        "name": "ipython",
        "version": 3
      },
      "file_extension": ".py",
      "mimetype": "text/x-python",
      "name": "python",
      "nbconvert_exporter": "python",
      "pygments_lexer": "ipython3",
      "version": "3.9.7"
    },
    "colab": {
      "provenance": []
    }
  },
  "nbformat": 4,
  "nbformat_minor": 0
}